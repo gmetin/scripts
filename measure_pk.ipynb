{
 "cells": [
  {
   "cell_type": "code",
   "execution_count": 4,
   "metadata": {},
   "outputs": [],
   "source": [
    "import matplotlib as mpl\n",
    "import numpy as np\n",
    "import matplotlib.pyplot as plt\n",
    "import scipy.ndimage\n",
    "from mpl_toolkits.axes_grid1 import make_axes_locatable\n",
    "import itertools\n",
    "import matplotlib as mpl\n",
    "import sys\n",
    "\n",
    "\n",
    "\n",
    "from nbodykit.lab import *"
   ]
  },
  {
   "cell_type": "code",
   "execution_count": 5,
   "metadata": {},
   "outputs": [],
   "source": [
    "\"\"\"Create k^2 in box (nc x nc x nc)\"\"\"\n",
    "def k_box(nc,L):\n",
    "    kfac = 2.*np.pi/L\n",
    "    k= np.fft.fftfreq(nc,d=1./nc/kfac) #d controls spacing\n",
    "    a = np.transpose(np.indices((nc,nc,nc)).T, (2, 1, 0, 3)) #1 grid cell 3 coordinates\n",
    "    k2=(k[a]**2).sum(axis=-1) # each grid cell is sum of squares of coordinates\n",
    "    return (np.sqrt(k2))"
   ]
  },
  {
   "cell_type": "code",
   "execution_count": 6,
   "metadata": {},
   "outputs": [],
   "source": [
    "def measure_pk(s1, s2, k, kbin):\n",
    "    fs1 = np.fft.fftn(s1)\n",
    "    fs2 = np.fft.fftn(s2)\n",
    "    power = np.zeros(len(kbin)-1)\n",
    "    center_k = (kbin[:-1] + kbin[1:]) / 2\n",
    "    #divide k array into kbin\n",
    "    for i in range(len(kbin[:-1])):\n",
    "        xind,yind,zind = np.where((k>=kbin[i])*(k<kbin[i+1])) # 3D index of all k values at bin[i]\n",
    "        power[i] = (((fs1[xind,yind,zind].real*fs2[xind,yind,zind].real)+(fs1[xind,yind,zind].imag*fs2[xind,yind,zind].imag))).mean()#*(L**3/nc**6) \n",
    "    return (center_k,power)"
   ]
  },
  {
   "cell_type": "code",
   "execution_count": 38,
   "metadata": {},
   "outputs": [],
   "source": [
    "def measure_autopk(array,L):\n",
    "    mesh = ArrayMesh(array,BoxSize=L)\n",
    "    r = FFTPower(mesh, mode='1d')\n",
    "    return r.power"
   ]
  },
  {
   "cell_type": "code",
   "execution_count": 39,
   "metadata": {},
   "outputs": [],
   "source": [
    "nc_birth = 256\n",
    "L_birth = 480.\n",
    "Nb = 100\n",
    "k_birth = k_box(nc_birth,L_birth)\n",
    "kmin_birth = 2.*np.pi/L_birth\n",
    "kmax_birth = k_birth.max()\n",
    "kbin_birth = np.linspace(kmin_birth,kmax_birth,Nb) #kmin = 2*pi/L, kmax from k^2 \n",
    "file_in = '/gpfs02/work/metin/birth/multi_2/dmlcZ_2300.dat'\n",
    "dm_birth = np.fromfile(file_in,dtype=np.float32).reshape((nc_birth,nc_birth,nc_birth))"
   ]
  },
  {
   "cell_type": "code",
   "execution_count": 40,
   "metadata": {},
   "outputs": [
    {
     "name": "stdout",
     "output_type": "stream",
     "text": [
      "CPU times: user 12.1 s, sys: 4.24 s, total: 16.3 s\n",
      "Wall time: 17 s\n"
     ]
    }
   ],
   "source": [
    "%time k_bin_birth, power_birth = measure_pk(dm_birth,dm_birth,k_birth,kbin_birth)"
   ]
  },
  {
   "cell_type": "code",
   "execution_count": 41,
   "metadata": {},
   "outputs": [
    {
     "name": "stdout",
     "output_type": "stream",
     "text": [
      "CPU times: user 1.72 s, sys: 75 ms, total: 1.79 s\n",
      "Wall time: 1.79 s\n"
     ]
    }
   ],
   "source": [
    "%time Pk_birth = measure_autopk(dm_birth,L_birth)\n",
    "\n"
   ]
  },
  {
   "cell_type": "code",
   "execution_count": 42,
   "metadata": {},
   "outputs": [
    {
     "data": {
      "image/png": "[encoded data removed]",
      "text/plain": [
       "<Figure size 432x288 with 1 Axes>"
      ]
     },
     "metadata": {
      "needs_background": "light"
     },
     "output_type": "display_data"
    }
   ],
   "source": [
    "plt.loglog(Pk_birth['k'], Pk_birth['power'].real,label=\"BIRTH nbodykit\")\n",
    "plt.loglog(k_bin_birth,power_birth*L_birth**3/nc_birth**6,marker='.',label=\"BIRTH Metin\")\n",
    "plt.legend()\n",
    "plt.show()"
   ]
  },
  {
   "cell_type": "code",
   "execution_count": null,
   "metadata": {},
   "outputs": [],
   "source": []
  }
 ],
 "metadata": {
  "kernelspec": {
   "display_name": "Python 3",
   "language": "python",
   "name": "python3"
  },
  "language_info": {
   "codemirror_mode": {
    "name": "ipython",
    "version": 3
   },
   "file_extension": ".py",
   "mimetype": "text/x-python",
   "name": "python",
   "nbconvert_exporter": "python",
   "pygments_lexer": "ipython3",
   "version": "3.8.5"
  }
 },
 "nbformat": 4,
 "nbformat_minor": 4
}
